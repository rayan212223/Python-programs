{
  "cells": [
    {
      "cell_type": "markdown",
      "metadata": {
        "id": "view-in-github",
        "colab_type": "text"
      },
      "source": [
        "<a href=\"https://colab.research.google.com/github/rayan212223/Python-programs/blob/main/Basic_programs.ipynb\" target=\"_parent\"><img src=\"https://colab.research.google.com/assets/colab-badge.svg\" alt=\"Open In Colab\"/></a>"
      ]
    },
    {
      "cell_type": "code",
      "execution_count": null,
      "metadata": {
        "id": "oHhUVOy0gfhI"
      },
      "outputs": [],
      "source": [
        "# Program to add two numbers\n",
        "num1=int(input(\"Enter the first number \"))\n",
        "num2=int(input(\"Enter the second number \"))\n",
        "sum=num1+num2\n",
        "print(f\"The sum is {sum}\")\n"
      ]
    },
    {
      "cell_type": "code",
      "execution_count": null,
      "metadata": {
        "id": "a88CJMfcgfhL"
      },
      "outputs": [],
      "source": [
        "# Program to find the maximum of two numbers\n",
        "num1=int(input(\"Enter the first number \"))\n",
        "num2=int(input(\"Enter the second number \"))\n",
        "if(num1==num2):\n",
        "   print(f\"both are equal\")\n",
        "elif(num1>num2):\n",
        "   print(f\"{num1} is greater\")\n",
        "elif(num1<num2):\n",
        "   print(f\"{num2} is greater\")\n"
      ]
    },
    {
      "cell_type": "code",
      "execution_count": null,
      "metadata": {
        "id": "lXXSf5D4gfhM"
      },
      "outputs": [],
      "source": [
        "# Program to calculate the factorial of a number\n",
        "num=int(input(\"input a number to find a factorial \"))\n",
        "fact=1\n",
        "for i in range(1,num+1):\n",
        "    fact=fact*i\n",
        "\n",
        "\n",
        "print(f\"factorial of {num} is {fact}\")\n"
      ]
    },
    {
      "cell_type": "code",
      "execution_count": null,
      "metadata": {
        "id": "w5JYStGGgfhM"
      },
      "outputs": [],
      "source": [
        "# Program to calculate simple interest\n",
        "p=float(input(\"input principal \"))\n",
        "r=float(input(\"input rate of interest \"))\n",
        "t=float(input(\"input time period \"))\n",
        "\n",
        "si=(p*r*t)/100\n",
        "\n",
        "print(f\"So the simple interest={si}\")\n"
      ]
    },
    {
      "cell_type": "code",
      "execution_count": null,
      "metadata": {
        "id": "OiXWFtPcgfhM"
      },
      "outputs": [],
      "source": [
        "# Program to calculate compound interest\n",
        "p=float(input(\"input principal \"))\n",
        "r=float(input(\"input rate of interest \"))\n",
        "t=float(input(\"input time period \"))\n",
        "\n",
        "am=p*(1+(r/100))**t\n",
        "ci=am-p\n",
        "\n",
        "print(f\"So the compound interest={ci}\")\n"
      ]
    },
    {
      "cell_type": "code",
      "execution_count": null,
      "metadata": {
        "id": "PQy9W2sYgfhN"
      },
      "outputs": [],
      "source": [
        "# Program to check Armstrong Number\n",
        "n=int(input(\"input number to find out whether it is armstrong or not \"))\n",
        "n_str=str(n)\n",
        "\n",
        "sum=0\n",
        "for i in n_str:\n",
        "   sum=sum+int(i)**len(n_str)\n",
        "\n",
        "if(sum==n):\n",
        "   print(f\"{n} is an armstrong number\")\n",
        "else:\n",
        "   print(f\"{n} is NOT an armstrong number\")\n"
      ]
    },
    {
      "cell_type": "code",
      "execution_count": null,
      "metadata": {
        "id": "ibRnl0pHgfhO"
      },
      "outputs": [],
      "source": [
        "# Program to find the area of a circle\n",
        "radius=float(input(\"Input radius of circle \"))\n",
        "pi=3.14\n",
        "area=pi*(radius**2)\n",
        "print(f\"The area is {area}\")"
      ]
    },
    {
      "cell_type": "code",
      "execution_count": null,
      "metadata": {
        "id": "ATBDXCPkgfhO"
      },
      "outputs": [],
      "source": [
        "# Program to print all prime numbers in an interval\n",
        "print(\"Prime numbers in a given interval.\")\n",
        "fro=int(input(\"From \"))\n",
        "to=int(input(\"To \"))\n",
        "\n",
        "for num in range(fro,to+1):\n",
        "    if(num>1):\n",
        "     for j in range(2,num):\n",
        "         if((num%j)==0):\n",
        "           break\n",
        "     else:\n",
        "      print(num)\n",
        "\n"
      ]
    },
    {
      "cell_type": "code",
      "execution_count": null,
      "metadata": {
        "id": "BowDRyzxgfhP"
      },
      "outputs": [],
      "source": [
        "# Program to check whether a number is prime or not\n",
        "num=int(input(\"Enter the number \"))\n",
        "\n",
        "if num==1:\n",
        "    print(\"1 is not a prime number\")\n",
        "else:\n",
        "  for i in range(2,num):\n",
        "     if num%i==0:\n",
        "        print(f\"{num} is not a prime number\")\n",
        "        break\n",
        "  else:\n",
        "     print(f\"{num} is a prime number\")\n",
        "\n",
        "\n"
      ]
    },
    {
      "cell_type": "code",
      "execution_count": null,
      "metadata": {
        "id": "KIJ40qIcgfhP"
      },
      "outputs": [],
      "source": [
        "# Program to find the n-th Fibonacci number\n",
        "n=int(input(\"Enter the nth term \"))\n",
        "a=0\n",
        "b=1\n",
        "\n",
        "for i in range(2,n):\n",
        "    fib=a+b\n",
        "    a=b\n",
        "    b=fib\n",
        "\n",
        "print(fib)\n",
        "\n",
        "\n"
      ]
    },
    {
      "cell_type": "code",
      "execution_count": null,
      "metadata": {
        "id": "iADogkBngfhP"
      },
      "outputs": [],
      "source": [
        "# Program to check if a given number is a Fibonacci number\n",
        "n=int(input(\"Enter the number to find out whether it is fibonacci or not \"))\n",
        "a=0\n",
        "b=1\n",
        "\n",
        "fib=0\n",
        "while(fib<=n):\n",
        "    if(fib==n):\n",
        "        print(\"The given number is fibonacci\")\n",
        "        break\n",
        "    fib=a+b\n",
        "    a=b\n",
        "    b=fib\n",
        "\n",
        "if(fib==n) :\n",
        "    pass\n",
        "else:\n",
        "    print(\"The given number is NOT fibonacci\")\n"
      ]
    },
    {
      "cell_type": "code",
      "execution_count": null,
      "metadata": {
        "id": "is9WCICJgfhQ"
      },
      "outputs": [],
      "source": [
        "# Program to find the n-th multiple of a number in Fibonacci Series\n",
        "def find_nth_multiple(n, k):\n",
        "    a, b = 0, 1\n",
        "    count = 0\n",
        "\n",
        "    while count < n:\n",
        "        temp = b\n",
        "        b = a + b\n",
        "        a = temp\n",
        "\n",
        "        if b % k == 0:\n",
        "            count += 1\n",
        "\n",
        "    return b\n",
        "\n",
        "n = int(input(\"Enter the value of n: \"))\n",
        "k = int(input(\"Enter the value of k: \"))\n",
        "result = find_nth_multiple(n, k)\n",
        "print(f\"The {n}-th multiple of {k} in Fibonacci Series is:\", result)\n"
      ]
    },
    {
      "cell_type": "code",
      "execution_count": null,
      "metadata": {
        "id": "UW260s4tgfhQ"
      },
      "outputs": [],
      "source": [
        "# Program to print ASCII value of a character\n",
        "char=input(\"Enter a character \")[0]\n",
        "asc=ord(char)\n",
        "print(f\"{asc}\")\n"
      ]
    },
    {
      "cell_type": "code",
      "execution_count": null,
      "metadata": {
        "id": "ATas0cHzgfhQ"
      },
      "outputs": [],
      "source": [
        "# Program for the Sum of squares of the first n natural numbers\n",
        "n=int(input(\"Enter nth term to find sum \"))\n",
        "sum=0\n",
        "for i in range(1,n+1):\n",
        "   sum=sum+i**2\n",
        "\n",
        "print(sum)\n"
      ]
    },
    {
      "cell_type": "code",
      "execution_count": null,
      "metadata": {
        "id": "YttxRAepgfhR"
      },
      "outputs": [],
      "source": [
        "# Program for the cube sum of the first n natural numbers\n",
        "n=int(input(\"Enter nth term to find sum \"))\n",
        "sum=0\n",
        "for i in range(1,n+1):\n",
        "   sum=sum+i**3\n",
        "\n",
        "print(sum)\n"
      ]
    }
  ],
  "metadata": {
    "kernelspec": {
      "display_name": "Python 3",
      "language": "python",
      "name": "python3"
    },
    "language_info": {
      "codemirror_mode": {
        "name": "ipython",
        "version": 3
      },
      "file_extension": ".py",
      "mimetype": "text/x-python",
      "name": "python",
      "nbconvert_exporter": "python",
      "pygments_lexer": "ipython3",
      "version": "3.11.3"
    },
    "colab": {
      "provenance": [],
      "include_colab_link": true
    }
  },
  "nbformat": 4,
  "nbformat_minor": 0
}